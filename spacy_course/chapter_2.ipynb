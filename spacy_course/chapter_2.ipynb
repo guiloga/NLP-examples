{
 "cells": [
  {
   "cell_type": "code",
   "execution_count": 3,
   "id": "61c51667",
   "metadata": {},
   "outputs": [],
   "source": [
    "# Chapter 2: Large-scale data analysis with Spacy\n",
    "# https://course.spacy.io/en/chapter2\n",
    "\n",
    "# In this chapter, you'll use your new skills to extract specific information \n",
    "# from large volumes of text. You''ll learn how to make the most of spaCy's data structures, \n",
    "# and how to effectively combine statistical and rule-based approaches for text analysis."
   ]
  },
  {
   "cell_type": "code",
   "execution_count": null,
   "id": "0a36a28c",
   "metadata": {},
   "outputs": [],
   "source": []
  }
 ],
 "metadata": {
  "kernelspec": {
   "display_name": "Python 3 (ipykernel)",
   "language": "python",
   "name": "python3"
  },
  "language_info": {
   "codemirror_mode": {
    "name": "ipython",
    "version": 3
   },
   "file_extension": ".py",
   "mimetype": "text/x-python",
   "name": "python",
   "nbconvert_exporter": "python",
   "pygments_lexer": "ipython3",
   "version": "3.9.5"
  }
 },
 "nbformat": 4,
 "nbformat_minor": 5
}
